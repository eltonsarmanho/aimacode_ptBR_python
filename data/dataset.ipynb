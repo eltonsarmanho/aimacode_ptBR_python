{
 "cells": [
  {
   "cell_type": "markdown",
   "metadata": {},
   "source": [
    "# Descrição do Dataset: Decisão em Restaurantes\n",
    "\n",
    "Este dataset contém informações sobre atributos de restaurantes e a decisão de esperar ou não por uma mesa. Abaixo estão os detalhes de cada atributo:\n",
    "\n",
    "## Atributos de Entrada (Input Attributes)\n",
    "\n",
    "1. **Alternativa (Alternate):** Indica se há um restaurante alternativo adequado nas proximidades.\n",
    "   - Valores: `Sim` ou `Não`.\n",
    "\n",
    "2. **Bar:** Indica se o restaurante possui uma área de bar confortável para esperar.\n",
    "   - Valores: `Sim` ou `Não`.\n",
    "\n",
    "3. **Sex/Sáb (Fri/Sat):** Indica se é sexta-feira ou sábado.\n",
    "   - Valores: `Sim` ou `Não`.\n",
    "\n",
    "4. **Fome (Hungry):** Indica se estamos com fome no momento.\n",
    "   - Valores: `Sim` ou `Não`.\n",
    "\n",
    "5. **Pessoas (Patrons):** Número de pessoas presentes no restaurante.\n",
    "   - Valores: `Nenhum`, `Alguns` ou `Cheio`.\n",
    "\n",
    "6. **Preço (Price):** Faixa de preço do restaurante.\n",
    "   - Valores: `$` (barato), `$$` (moderado), `$$$` (caro).\n",
    "\n",
    "7. **Chuva (Raining):** Indica se está chovendo.\n",
    "   - Valores: `Sim` ou `Não`.\n",
    "\n",
    "8. **Reserva (Reservation):** Indica se fizemos uma reserva no restaurante.\n",
    "   - Valores: `Sim` ou `Não`.\n",
    "\n",
    "9. **Tipo (Type):** Tipo de cozinha do restaurante.\n",
    "   - Valores: `Francês`, `Italiano`, `Tailandês`, ou `Hambúrguer`.\n",
    "\n",
    "10. **Estimativa (WaitEstimate):** Estimativa do tempo de espera fornecida pelo anfitrião.\n",
    "    - Valores: `0-10` minutos, `10-30` minutos, `30-60` minutos, ou `>60` minutos.\n",
    "\n",
    "## Atributo de Saída (Output Attribute)\n",
    "\n",
    "- **Esperar (WillWait):** Indica se decidimos esperar por uma mesa no restaurante.\n",
    "  - Valores: `Sim` ou `Não`.\n",
    "\n",
    "---\n",
    "\n",
    "Este dataset é frequentemente utilizado para construir e avaliar modelos de aprendizado supervisionado, como árvores de decisão, para prever se os clientes esperariam por uma mesa com base nas características do restaurante.\n"
   ]
  }
 ],
 "metadata": {
  "language_info": {
   "name": "python"
  }
 },
 "nbformat": 4,
 "nbformat_minor": 2
}
